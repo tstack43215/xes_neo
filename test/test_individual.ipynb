{
 "cells": [
  {
   "cell_type": "code",
   "execution_count": 39,
   "id": "11bc681c-6b5c-4540-b1d8-1d8bdc960cdd",
   "metadata": {
    "tags": []
   },
   "outputs": [],
   "source": [
    "import numpy as np \n",
    "import copy\n",
    "import matplotlib.pyplot as plt\n",
    "import importlib"
   ]
  },
  {
   "cell_type": "code",
   "execution_count": 2,
   "id": "20a9ff65-8fb4-4abb-a0d6-811c561369d6",
   "metadata": {
    "tags": []
   },
   "outputs": [],
   "source": [
    "from xes_neo import xes_individual"
   ]
  },
  {
   "cell_type": "code",
   "execution_count": 42,
   "id": "05c789d7-c35b-4684-945d-7b566341b674",
   "metadata": {
    "tags": []
   },
   "outputs": [],
   "source": [
    "backgrounds = ['Linear']\n",
    "peak_type = ['Voigt', 'Voigt', 'Voigt']\n",
    "pars_range = {\n",
    "    'Peak Energy': [-1.5, 1.5, 0.01], \n",
    "    'Peak Energy Guess': [6492.0, 6488.5, 6474.5], \n",
    "    'Gaussian': [0.0, 4.0, 0.001], \n",
    "    'Lorentzian': [0.0, 2.5, 0.001], \n",
    "    'Amplitude': [0.0, 203.9262762413793, 0.05], \n",
    "    'Background': [0.0, 1.1405470249586205, 0.001], \n",
    "    'Slope': [0.0, 0.01, 1e-05], \n",
    "    'npeaks': 3}\n",
    "\n",
    "F = 0.5"
   ]
  },
  {
   "cell_type": "code",
   "execution_count": 4,
   "id": "b2ac4304-9ee5-4d9a-99a7-d31b84ade0a3",
   "metadata": {
    "tags": []
   },
   "outputs": [],
   "source": [
    "\n",
    "x = xes_individual.Individual(backgrounds,peak_type,pars_range)\n",
    "y = xes_individual.Individual(backgrounds,peak_type,pars_range)\n",
    "z = xes_individual.Individual(backgrounds,peak_type,pars_range)"
   ]
  },
  {
   "cell_type": "code",
   "execution_count": 5,
   "id": "ea64778b-b9b3-491f-a355-5d11ba238dd4",
   "metadata": {
    "tags": []
   },
   "outputs": [],
   "source": [
    "x_Pars = x.get_params()\n",
    "y_Pars = y.get_params()\n",
    "z_Pars = z.get_params()\n",
    "\n"
   ]
  },
  {
   "cell_type": "code",
   "execution_count": 11,
   "id": "cade021e-cfd8-4c97-9956-6d94c0af99bb",
   "metadata": {
    "tags": []
   },
   "outputs": [],
   "source": [
    "def split_into_x(full_list):\n",
    "    split_list = []\n",
    "    temp_list = []\n",
    "    for i in full_list:\n",
    "        if isinstance(i,str) == False:\n",
    "            temp_list.append(i)\n",
    "        else:\n",
    "            temp_list.append(i)\n",
    "            split_list.append(temp_list)\n",
    "            temp_list = []\n",
    "            \n",
    "    return split_list"
   ]
  },
  {
   "cell_type": "code",
   "execution_count": 12,
   "id": "0ef849f5-78b5-4df9-a35f-ae4ceccd77d3",
   "metadata": {
    "tags": []
   },
   "outputs": [
    {
     "name": "stdout",
     "output_type": "stream",
     "text": [
      "[6491.4850000000215, 2.355, 1.7305000000000001, 68.4, 'Voigt', 6488.690000000037, 3.359, 0.563, 66.975, 'Voigt', 6475.29000000005, 2.263, 2.2665, 26.474999999999994, 'Voigt', 1.2425, 'Linear']\n"
     ]
    }
   ],
   "source": [
    "full_list = []\n",
    "for i in range(len(x_Pars)):\n",
    "    if isinstance(x_Pars[i],str) == False:\n",
    "        full_list.append(x_Pars[i]  + F*(y_Pars[i]  - z_Pars[i]))\n",
    "    else:\n",
    "        full_list.append(x_Pars[i])\n",
    "        \n",
    "print(full_list)"
   ]
  },
  {
   "cell_type": "code",
   "execution_count": 13,
   "id": "71e2f18d-5674-43fa-8ee3-0a8e2f3f36ea",
   "metadata": {
    "tags": []
   },
   "outputs": [
    {
     "name": "stdout",
     "output_type": "stream",
     "text": [
      "[6491.4850000000215, 2.355, 1.7305000000000001, 68.4, 'Voigt', 6488.690000000037, 3.359, 0.563, 66.975, 'Voigt', 6475.29000000005, 2.263, 2.2665, 26.474999999999994, 'Voigt', 1.2425, 'Linear']\n"
     ]
    }
   ],
   "source": [
    "print(full_list)\n",
    "split_full_list = split_into_x(full_list)"
   ]
  },
  {
   "cell_type": "code",
   "execution_count": 17,
   "id": "e539578d-f579-40c3-9ae9-ff91de521364",
   "metadata": {
    "tags": []
   },
   "outputs": [
    {
     "name": "stdout",
     "output_type": "stream",
     "text": [
      "[[6491.4850000000215, 2.355, 1.7305000000000001, 68.4, 'Voigt'], [6488.690000000037, 3.359, 0.563, 66.975, 'Voigt'], [6475.29000000005, 2.263, 2.2665, 26.474999999999994, 'Voigt'], [1.2425, 'Linear']]\n"
     ]
    }
   ],
   "source": [
    "def set_pars(individual,split_full_list):\n",
    "    full_list = copy.copy(split_full_list)\n",
    "\n",
    "    bg = full_list.pop()\n",
    "    for i in range(len(full_list)):\n",
    "        individual.setPeak(i,full_list[i])\n",
    "\n",
    "    \n",
    "set_pars(x,split_full_list)\n",
    "print(split_full_list)"
   ]
  },
  {
   "cell_type": "code",
   "execution_count": 19,
   "id": "781f9198-1ece-4418-a773-496cdf1119f0",
   "metadata": {
    "tags": []
   },
   "outputs": [
    {
     "data": {
      "text/plain": [
       "[6491.4850000000215,\n",
       " 2.355,\n",
       " 1.7305000000000001,\n",
       " 68.4,\n",
       " 'Voigt',\n",
       " 6488.690000000037,\n",
       " 3.359,\n",
       " 0.563,\n",
       " 66.975,\n",
       " 'Voigt',\n",
       " 6475.29000000005,\n",
       " 2.263,\n",
       " 2.2665,\n",
       " 26.474999999999994,\n",
       " 'Voigt',\n",
       " 1.069,\n",
       " 'Linear']"
      ]
     },
     "execution_count": 19,
     "metadata": {},
     "output_type": "execute_result"
    }
   ],
   "source": [
    "x.get_params()"
   ]
  },
  {
   "cell_type": "code",
   "execution_count": 20,
   "id": "750521ec-2816-4e04-8c23-0d1e28dda57b",
   "metadata": {
    "tags": []
   },
   "outputs": [],
   "source": [
    "def rmStrfromPars(pars):\n",
    "    temp_list = []\n",
    "    for i in range(len(pars)):\n",
    "        # print(type(x_Pars[i]))\n",
    "        if isinstance(pars[i],str) == False:\n",
    "            temp_list.append(pars[i])\n",
    "    \n",
    "    return temp_list\n",
    "        \n"
   ]
  },
  {
   "cell_type": "code",
   "execution_count": 37,
   "id": "badfe32c-72a7-4f14-a130-bd1793b8d3a1",
   "metadata": {
    "tags": []
   },
   "outputs": [
    {
     "name": "stdout",
     "output_type": "stream",
     "text": [
      "[ 6.492810e+03  8.620000e-01  4.170000e-01  9.497500e+01  6.489850e+03\n",
      "  8.805000e-01 -1.760000e-01  8.400000e+01  6.476015e+03  1.475500e+00\n",
      "  1.227500e+00  3.277500e+01  4.555000e-01]\n"
     ]
    }
   ],
   "source": [
    "F = 0.5\n",
    "new_Pars = x_Pars + F *(y_Pars - z_Pars)\n",
    "print(new_Pars)"
   ]
  },
  {
   "cell_type": "code",
   "execution_count": 49,
   "id": "2bd52594-cd92-4ad3-81b5-3d26124192cb",
   "metadata": {
    "tags": []
   },
   "outputs": [],
   "source": [
    "params = x.get_params()"
   ]
  },
  {
   "cell_type": "code",
   "execution_count": 51,
   "id": "c109ea33-b226-4895-b2b3-676ac99449ae",
   "metadata": {
    "tags": []
   },
   "outputs": [
    {
     "data": {
      "text/plain": [
       "-1"
      ]
     },
     "execution_count": 54,
     "metadata": {},
     "output_type": "execute_result"
    }
   ],
   "source": [
    "x.setPeak(1,params)"
   ]
  },
  {
   "cell_type": "code",
   "execution_count": 21,
   "id": "7504b395-82a9-4b29-a7a4-b167eceb5bec",
   "metadata": {
    "tags": []
   },
   "outputs": [
    {
     "data": {
      "text/plain": [
       "<xes_neo.xes_individual.Individual at 0x11fe75f60>"
      ]
     },
     "execution_count": 21,
     "metadata": {},
     "output_type": "execute_result"
    }
   ],
   "source": [
    "def check_for_bound(individual):\n",
    "    \"\"\"Check for bounds\n",
    "    Args:\n",
    "        individual (Individual): _description_\n",
    "\n",
    "    Returns:\n",
    "        _type_: _description_\n",
    "    \"\"\"\n",
    "#     pars = individual.get_func()[0].get_func()\n",
    "\n",
    "#     bounds = individual.get_bounds(0)\n",
    "#     temp_pars = []\n",
    "#     for i,(par,value) in enumerate(pars.items()):\n",
    "#         temp_pars.append(np.clip(value,bounds[par][0],bounds[par][1]))\n",
    "\n",
    "#     individual.set_path(0,temp_pars)\n",
    "    return individual"
   ]
  },
  {
   "cell_type": "code",
   "execution_count": 25,
   "id": "61f2fb28-d480-4b5c-81d2-c950649aeb9f",
   "metadata": {
    "tags": []
   },
   "outputs": [],
   "source": [
    "pars = [6491.4850000000215,\n",
    " 2.355,\n",
    " 1.7305000000000001,\n",
    " 68.4,\n",
    " 'Voigt']"
   ]
  },
  {
   "cell_type": "code",
   "execution_count": 27,
   "id": "e8728a26-590f-476a-8ad8-1f8a94e17d49",
   "metadata": {
    "tags": []
   },
   "outputs": [],
   "source": [
    "x_peak = x.peakArr[0]"
   ]
  },
  {
   "cell_type": "code",
   "execution_count": 29,
   "id": "363de9c3-d9fe-4447-acb3-fd15119d9a2d",
   "metadata": {
    "tags": []
   },
   "outputs": [
    {
     "data": {
      "text/plain": [
       "{'Peak Energy': [-1.5, 1.5, 0.01],\n",
       " 'Peak Energy Guess': [6492.0, 6488.5, 6474.5],\n",
       " 'Gaussian': [0.0, 4.0, 0.001],\n",
       " 'Lorentzian': [0.0, 2.5, 0.001],\n",
       " 'Amplitude': [0.0, 203.9262762413793, 0.05],\n",
       " 'Background': [0.0, 1.1405470249586205, 0.001],\n",
       " 'Slope': [0.0, 0.01, 1e-05],\n",
       " 'npeaks': 3}"
      ]
     },
     "execution_count": 29,
     "metadata": {},
     "output_type": "execute_result"
    }
   ],
   "source": [
    "x_peak.paramRange"
   ]
  },
  {
   "cell_type": "code",
   "execution_count": 23,
   "id": "68142e9e-2e7d-411a-8068-6faa430d489d",
   "metadata": {
    "tags": []
   },
   "outputs": [
    {
     "data": {
      "text/plain": [
       "{'Peak Energy': [-1.5, 1.5, 0.01],\n",
       " 'Peak Energy Guess': [6492.0, 6488.5, 6474.5],\n",
       " 'Gaussian': [0.0, 4.0, 0.001],\n",
       " 'Lorentzian': [0.0, 2.5, 0.001],\n",
       " 'Amplitude': [0.0, 203.9262762413793, 0.05],\n",
       " 'Background': [0.0, 1.1405470249586205, 0.001],\n",
       " 'Slope': [0.0, 0.01, 1e-05],\n",
       " 'npeaks': 3}"
      ]
     },
     "execution_count": 23,
     "metadata": {},
     "output_type": "execute_result"
    }
   ],
   "source": [
    "x.parsRange"
   ]
  },
  {
   "cell_type": "code",
   "execution_count": 37,
   "id": "98b1e7ba-0253-40ad-9dbf-4db65cf2824d",
   "metadata": {
    "tags": []
   },
   "outputs": [
    {
     "ename": "AttributeError",
     "evalue": "'peak' object has no attribute 'check_bound'",
     "output_type": "error",
     "traceback": [
      "\u001b[0;31m---------------------------------------------------------------------------\u001b[0m",
      "\u001b[0;31mAttributeError\u001b[0m                            Traceback (most recent call last)",
      "Cell \u001b[0;32mIn[37], line 1\u001b[0m\n\u001b[0;32m----> 1\u001b[0m \u001b[43mx\u001b[49m\u001b[38;5;241;43m.\u001b[39;49m\u001b[43mpeakArr\u001b[49m\u001b[43m[\u001b[49m\u001b[38;5;241;43m0\u001b[39;49m\u001b[43m]\u001b[49m\u001b[38;5;241;43m.\u001b[39;49m\u001b[43mcheck_bound\u001b[49m()\n",
      "\u001b[0;31mAttributeError\u001b[0m: 'peak' object has no attribute 'check_bound'"
     ]
    }
   ],
   "source": [
    "x.peakArr[0].check_bound()"
   ]
  },
  {
   "cell_type": "code",
   "execution_count": 41,
   "id": "eb64fa48-2f23-47d8-8461-c8fe1a8e4e92",
   "metadata": {},
   "outputs": [
    {
     "data": {
      "text/plain": [
       "<module 'xes_neo.xes_individual' from '/Users/andy/mambaforge3/lib/python3.10/site-packages/xes_neo/xes_individual.py'>"
      ]
     },
     "execution_count": 41,
     "metadata": {},
     "output_type": "execute_result"
    }
   ],
   "source": [
    "# Check for individual bounds\n",
    "importlib.reload(xes_individual)\n"
   ]
  },
  {
   "cell_type": "code",
   "execution_count": 40,
   "id": "fa59a459-5335-4cfd-8b20-14473146a674",
   "metadata": {
    "tags": []
   },
   "outputs": [
    {
     "data": {
      "text/plain": [
       "<module 'xes_neo.xes_individual' from '/Users/andy/mambaforge3/lib/python3.10/site-packages/xes_neo/xes_individual.py'>"
      ]
     },
     "execution_count": 40,
     "metadata": {},
     "output_type": "execute_result"
    }
   ],
   "source": []
  },
  {
   "cell_type": "code",
   "execution_count": null,
   "id": "a087529d-11c8-45b6-adec-70ae14489c5d",
   "metadata": {},
   "outputs": [],
   "source": []
  }
 ],
 "metadata": {
  "kernelspec": {
   "display_name": "Python 3 (ipykernel)",
   "language": "python",
   "name": "python3"
  },
  "language_info": {
   "codemirror_mode": {
    "name": "ipython",
    "version": 3
   },
   "file_extension": ".py",
   "mimetype": "text/x-python",
   "name": "python",
   "nbconvert_exporter": "python",
   "pygments_lexer": "ipython3",
   "version": "3.10.9"
  }
 },
 "nbformat": 4,
 "nbformat_minor": 5
}
