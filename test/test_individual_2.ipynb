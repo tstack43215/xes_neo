{
 "cells": [
  {
   "cell_type": "code",
   "execution_count": 1,
   "id": "bc6a5349-2c2c-44bb-b886-87eaff4d495b",
   "metadata": {
    "tags": []
   },
   "outputs": [],
   "source": [
    "import importlib\n",
    "import numpy as np"
   ]
  },
  {
   "cell_type": "code",
   "execution_count": 2,
   "id": "a41bd913-1e63-4805-af11-05983da73276",
   "metadata": {
    "tags": []
   },
   "outputs": [],
   "source": [
    "from xes_neo import xes_individual"
   ]
  },
  {
   "cell_type": "code",
   "execution_count": 3,
   "id": "13e8a5da-aee4-4f8e-8c52-b681814815a5",
   "metadata": {
    "tags": []
   },
   "outputs": [],
   "source": [
    "backgrounds = ['Linear']\n",
    "peak_type = ['Voigt','Voigt','Double Lorentzian']\n",
    "pars_range = {\n",
    "    'Peak Energy': [-1.5, 1.5, 0.01], \n",
    "    'Peak Energy Guess': [6492.0, 6488.5, 6474.5], \n",
    "    'Gaussian': [0.0, 4.0, 0.001], \n",
    "    'Lorentzian': [0.0, 2.5, 0.001], \n",
    "    'Amplitude': [0.0, 203.9262762413793, 0.05], \n",
    "    'Background': [0.0, 1.1405470249586205, 0.001], \n",
    "    'Slope': [0.0, 0.01, 1e-05], \n",
    "    'Asymmetry': [1,5,0.05],\n",
    "    'npeaks': 3}\n",
    "\n",
    "F = 0.5"
   ]
  },
  {
   "cell_type": "code",
   "execution_count": 4,
   "id": "67bba027-8894-4eb9-aa67-265a2d053cf0",
   "metadata": {
    "tags": []
   },
   "outputs": [
    {
     "data": {
      "text/plain": [
       "{'peak_0': {'peakType': 'voigt',\n",
       "  'bindingEnergy': 6493.300000000061,\n",
       "  'gaussian': 2.608,\n",
       "  'lorentz': 1.497,\n",
       "  'amp': 186.55},\n",
       " 'peak_1': {'peakType': 'voigt',\n",
       "  'bindingEnergy': 6488.910000000042,\n",
       "  'gaussian': 0.728,\n",
       "  'lorentz': 1.415,\n",
       "  'amp': 155.25},\n",
       " 'peak_2': {'peakType': 'double lorentzian',\n",
       "  'bindingEnergy': 6474.700000000037,\n",
       "  'gaussian': 1.677,\n",
       "  'lorentz': 0.082,\n",
       "  'amp': 8.75,\n",
       "  'asymmetry': 2.8500000000000014},\n",
       " 'bkgn_0': {'bkgnType': 'Linear', 'background': 0.985, 'slope': 0}}"
      ]
     },
     "execution_count": 4,
     "metadata": {},
     "output_type": "execute_result"
    }
   ],
   "source": [
    "x = xes_individual.Individual(backgrounds,peak_type,pars_range)\n",
    "x.get_params(verbose_type=dict)"
   ]
  },
  {
   "cell_type": "code",
   "execution_count": 5,
   "id": "7d9b71ba-1b7e-4455-bd8f-6de715989faa",
   "metadata": {
    "tags": []
   },
   "outputs": [],
   "source": [
    "newParams = {'peak_0': {'peakType': 'voigt',\n",
    "  'bindingEnergy': 6490.96000000001,\n",
    "  'gaussian': 0.966,\n",
    "  'lorentz': 0.75,\n",
    "  'amp': 113.60000000000001},\n",
    " 'peak_1': {'peakType': 'voigt',\n",
    "  'bindingEnergy': 6487.240000000005,\n",
    "  'gaussian': 2.027,\n",
    "  'lorentz': 1.375,\n",
    "  'amp': 167.75},\n",
    " 'peak_2': {'peakType': 'double lorentzian',\n",
    "  'bindingEnergy': 6475.0400000000445,\n",
    "  'gaussian': 0.199,\n",
    "  'lorentz': 0.369,\n",
    "  'amp': 74.25,\n",
    "  'asymmetry': 1.5500000000000005},\n",
    " 'bkgn_0': {'bkgnType': 'Linear', 'background': 0.295,'slope': 0}}\n",
    "\n",
    "x.setParams(newParams,paramType=dict)"
   ]
  },
  {
   "cell_type": "code",
   "execution_count": 6,
   "id": "c411c6b8-6de6-48b7-abe7-5afd2a51b361",
   "metadata": {
    "tags": []
   },
   "outputs": [],
   "source": [
    "x.setParams(newParams,paramType=dict)"
   ]
  },
  {
   "cell_type": "code",
   "execution_count": null,
   "id": "8403ec72-8162-4d22-94ff-9847b7df32d5",
   "metadata": {},
   "outputs": [],
   "source": []
  },
  {
   "cell_type": "code",
   "execution_count": null,
   "id": "75632aa5-1918-4c43-badc-feac8bb1742a",
   "metadata": {},
   "outputs": [],
   "source": []
  }
 ],
 "metadata": {
  "kernelspec": {
   "display_name": "Python 3 (ipykernel)",
   "language": "python",
   "name": "python3"
  },
  "language_info": {
   "codemirror_mode": {
    "name": "ipython",
    "version": 3
   },
   "file_extension": ".py",
   "mimetype": "text/x-python",
   "name": "python",
   "nbconvert_exporter": "python",
   "pygments_lexer": "ipython3",
   "version": "3.10.9"
  }
 },
 "nbformat": 4,
 "nbformat_minor": 5
}
