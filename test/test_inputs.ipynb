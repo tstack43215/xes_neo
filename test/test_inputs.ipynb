{
 "cells": [
  {
   "cell_type": "code",
   "execution_count": 1,
   "id": "0faa4b7b-1247-4e80-b26b-c5b654ecafb1",
   "metadata": {
    "tags": []
   },
   "outputs": [
    {
     "name": "stdout",
     "output_type": "stream",
     "text": [
      "/Users/andy/projects/xes_neo/test\n"
     ]
    }
   ],
   "source": [
    "!pwd\n"
   ]
  },
  {
   "cell_type": "code",
   "execution_count": 2,
   "id": "310f42c1-ff1d-4041-893a-f2a04cd711a7",
   "metadata": {
    "tags": []
   },
   "outputs": [],
   "source": [
    "import importlib\n",
    "import numpy as np"
   ]
  },
  {
   "cell_type": "code",
   "execution_count": 3,
   "id": "df6a11f7-fb27-498a-add5-bacc007b9682",
   "metadata": {
    "tags": []
   },
   "outputs": [],
   "source": [
    "# importlib.reload(xes_individual)\n",
    "from xes_neo import xes_individual"
   ]
  },
  {
   "cell_type": "code",
   "execution_count": 4,
   "id": "4144a49d-86f4-411a-a7d8-f0218b8f1dab",
   "metadata": {},
   "outputs": [],
   "source": [
    "backgrounds = ['Linear']\n",
    "peak_type = ['Voigt','Voigt','Double Lorentzian']\n",
    "pars_range = {\n",
    "    'Peak Energy': [-1.5, 1.5, 0.01], \n",
    "    'Peak Energy Guess': [6492.0, 6488.5, 6474.5], \n",
    "    'Gaussian': [0.0, 4.0, 0.001], \n",
    "    'Lorentzian': [0.0, 2.5, 0.001], \n",
    "    'Amplitude': [0.0, 203.9262762413793, 0.05], \n",
    "    'Background': [0.0, 1.1405470249586205, 0.001], \n",
    "    'Slope': [0.0, 0.01, 1e-05], \n",
    "    'Asymmetry': [1,5,0.05],\n",
    "    'npeaks': 3}\n",
    "\n",
    "F = 0.5"
   ]
  },
  {
   "cell_type": "code",
   "execution_count": 5,
   "id": "83e9aab8-c49b-4491-88cc-639f2f7fdd17",
   "metadata": {
    "tags": []
   },
   "outputs": [],
   "source": [
    "x = xes_individual.Individual(backgrounds,peak_type,pars_range)\n",
    "y = xes_individual.Individual(backgrounds,peak_type,pars_range)\n",
    "z = xes_individual.Individual(backgrounds,peak_type,pars_range)\n"
   ]
  },
  {
   "cell_type": "code",
   "execution_count": 6,
   "id": "8590414c-38d7-4c06-8759-57991d1f476c",
   "metadata": {
    "tags": []
   },
   "outputs": [],
   "source": [
    "x = xes_individual.Individual(backgrounds,peak_type,pars_range)\n"
   ]
  },
  {
   "cell_type": "code",
   "execution_count": null,
   "id": "e7a77b12-c424-49db-85e2-07a7e0ee8e63",
   "metadata": {
    "tags": []
   },
   "outputs": [],
   "source": []
  },
  {
   "cell_type": "code",
   "execution_count": 7,
   "id": "0a3e97e7-af4f-4a19-bd1d-6705390d87f8",
   "metadata": {
    "tags": []
   },
   "outputs": [
    {
     "name": "stdout",
     "output_type": "stream",
     "text": [
      "[6490.96000000001, 1.647, 1.778, 113.60000000000001, 'Voigt', 6489.150000000047, 0.233, 1.375, 87.9, 'Voigt', 6475.0400000000445, 3.368, 0.889, 28.950000000000003, 3.8000000000000025, 'Double Lorentzian', 0.295, 'Linear']\n"
     ]
    }
   ],
   "source": [
    "x.mutate_(0.5)\n",
    "print(x.get_params())"
   ]
  },
  {
   "cell_type": "code",
   "execution_count": 8,
   "id": "1f23972b-2b71-47f7-b453-951ea0e57de7",
   "metadata": {
    "tags": []
   },
   "outputs": [
    {
     "data": {
      "text/plain": [
       "{'peakType': 'voigt',\n",
       " 'bindingEnergy': 6490.96000000001,\n",
       " 'gaussian': 1.647,\n",
       " 'lorentz': 1.778,\n",
       " 'amp': 113.60000000000001}"
      ]
     },
     "execution_count": 8,
     "metadata": {},
     "output_type": "execute_result"
    }
   ],
   "source": [
    "x.get_peaks()[0].get(verbose_type=dict)"
   ]
  },
  {
   "cell_type": "code",
   "execution_count": 9,
   "id": "43a1a7bd-f9fa-4279-9d7e-e1c1cccdb630",
   "metadata": {
    "tags": []
   },
   "outputs": [
    {
     "data": {
      "text/plain": [
       "[6490.96000000001,\n",
       " 1.647,\n",
       " 1.778,\n",
       " 113.60000000000001,\n",
       " 'Voigt',\n",
       " 6489.150000000047,\n",
       " 0.233,\n",
       " 1.375,\n",
       " 87.9,\n",
       " 'Voigt',\n",
       " 6475.0400000000445,\n",
       " 3.368,\n",
       " 0.889,\n",
       " 28.950000000000003,\n",
       " 3.8000000000000025,\n",
       " 'Double Lorentzian',\n",
       " 0.295,\n",
       " 'Linear']"
      ]
     },
     "execution_count": 9,
     "metadata": {},
     "output_type": "execute_result"
    }
   ],
   "source": [
    "x.get_params()"
   ]
  },
  {
   "cell_type": "code",
   "execution_count": 10,
   "id": "9625b93b-8493-4285-85fc-569c248b5c19",
   "metadata": {
    "tags": []
   },
   "outputs": [
    {
     "data": {
      "text/plain": [
       "{'peak_0': {'peakType': 'voigt',\n",
       "  'bindingEnergy': 6490.96000000001,\n",
       "  'gaussian': 1.647,\n",
       "  'lorentz': 1.778,\n",
       "  'amp': 113.60000000000001},\n",
       " 'peak_1': {'peakType': 'voigt',\n",
       "  'bindingEnergy': 6489.150000000047,\n",
       "  'gaussian': 0.233,\n",
       "  'lorentz': 1.375,\n",
       "  'amp': 87.9},\n",
       " 'peak_2': {'peakType': 'double lorentzian',\n",
       "  'bindingEnergy': 6475.0400000000445,\n",
       "  'gaussian': 3.368,\n",
       "  'lorentz': 0.889,\n",
       "  'amp': 28.950000000000003,\n",
       "  'asymmetry': 3.8000000000000025},\n",
       " 'bkgn_0': {'bkgnType': 'Linear', 'background': 0.295}}"
      ]
     },
     "execution_count": 10,
     "metadata": {},
     "output_type": "execute_result"
    }
   ],
   "source": [
    "x.get_params(verbose_type=dict)"
   ]
  },
  {
   "cell_type": "code",
   "execution_count": 11,
   "id": "03b09dad-acf0-4e42-a494-a44c74a441a1",
   "metadata": {
    "tags": []
   },
   "outputs": [
    {
     "data": {
      "text/plain": [
       "[<xes_neo.xes_fit.peak at 0x16a4c2fe0>,\n",
       " <xes_neo.xes_fit.peak at 0x16a4c2650>,\n",
       " <xes_neo.xes_fit.peak at 0x105d48b50>]"
      ]
     },
     "execution_count": 11,
     "metadata": {},
     "output_type": "execute_result"
    }
   ],
   "source": [
    "x.get_peaks()"
   ]
  },
  {
   "cell_type": "code",
   "execution_count": 12,
   "id": "3c55cdfd-7f2e-4d0f-9a9b-86908a9fd344",
   "metadata": {
    "tags": []
   },
   "outputs": [
    {
     "data": {
      "text/plain": [
       "{'peak_0': {'peakType': 'voigt',\n",
       "  'bindingEnergy': 6490.96000000001,\n",
       "  'gaussian': 1.647,\n",
       "  'lorentz': 1.778,\n",
       "  'amp': 113.60000000000001},\n",
       " 'peak_1': {'peakType': 'voigt',\n",
       "  'bindingEnergy': 6489.150000000047,\n",
       "  'gaussian': 0.233,\n",
       "  'lorentz': 1.375,\n",
       "  'amp': 87.9},\n",
       " 'peak_2': {'peakType': 'double lorentzian',\n",
       "  'bindingEnergy': 6475.0400000000445,\n",
       "  'gaussian': 3.368,\n",
       "  'lorentz': 0.889,\n",
       "  'amp': 28.950000000000003,\n",
       "  'asymmetry': 3.8000000000000025},\n",
       " 'bkgn_0': {'bkgnType': 'Linear', 'background': 0.295}}"
      ]
     },
     "execution_count": 12,
     "metadata": {},
     "output_type": "execute_result"
    }
   ],
   "source": [
    "x.get_params(verbose_type=dict)"
   ]
  },
  {
   "cell_type": "code",
   "execution_count": 13,
   "id": "caa31857-cc47-4ea1-a517-d4821e5f39c5",
   "metadata": {
    "tags": []
   },
   "outputs": [
    {
     "data": {
      "text/plain": [
       "{'peak_0': {'peakType': 'voigt',\n",
       "  'bindingEnergy': 6492.7200000000485,\n",
       "  'gaussian': 0.966,\n",
       "  'lorentz': 0.75,\n",
       "  'amp': 41.550000000000004},\n",
       " 'peak_1': {'peakType': 'voigt',\n",
       "  'bindingEnergy': 6487.240000000005,\n",
       "  'gaussian': 2.027,\n",
       "  'lorentz': 1.118,\n",
       "  'amp': 167.75},\n",
       " 'peak_2': {'peakType': 'double lorentzian',\n",
       "  'bindingEnergy': 6473.740000000016,\n",
       "  'gaussian': 0.199,\n",
       "  'lorentz': 0.369,\n",
       "  'amp': 74.25,\n",
       "  'asymmetry': 1.5500000000000005},\n",
       " 'bkgn_0': {'bkgnType': 'Linear', 'background': 0.999}}"
      ]
     },
     "execution_count": 13,
     "metadata": {},
     "output_type": "execute_result"
    }
   ],
   "source": [
    "y.get_params(verbose_type=dict)"
   ]
  },
  {
   "cell_type": "code",
   "execution_count": null,
   "id": "037f07ad-f616-482c-a78e-5c77cee29fb7",
   "metadata": {},
   "outputs": [],
   "source": []
  },
  {
   "cell_type": "code",
   "execution_count": 7,
   "id": "ecfba265-4a8d-46cc-bfdb-d1be982bdc29",
   "metadata": {
    "tags": []
   },
   "outputs": [],
   "source": [
    "def crossoverParams(val1,val2):\n",
    "    # 50/50 crossover\n",
    "    if np.random.randint(0,2):\n",
    "        return val1\n",
    "    else:\n",
    "        return val2\n",
    "\n",
    "def crossover(ind_1,ind_2):\n",
    "    # Assert the ind1 peak type is same as ind2\n",
    "    assert ind_1.getPeaksType() == ind_2.getPeaksType()\n",
    "    # generate new individual first\n",
    "    \n",
    "    param_1 = ind_1.get_params(verbose_type=dict)\n",
    "    param_2 = ind_2.get_params(verbose_type=dict)\n",
    "\n",
    "    newParam = {}\n",
    "    for i in param_1:\n",
    "        temp_peakParms = {}\n",
    "\n",
    "        for param,val in param_1[i].items():\n",
    "            \n",
    "            temp_peakParms[param] = crossoverParams(param_1[i][param],param_2[i][param])\n",
    "        newParam[i] = temp_peakParms\n",
    "\n",
    "    return newParam\n",
    "    \n",
    "newParam = crossover(x,y)\n",
    "z = gener"
   ]
  },
  {
   "cell_type": "code",
   "execution_count": 15,
   "id": "556a9277-30a4-473b-8c2b-a087c3989120",
   "metadata": {
    "tags": []
   },
   "outputs": [
    {
     "data": {
      "text/plain": [
       "<xes_neo.xes_individual.Individual at 0x111912ce0>"
      ]
     },
     "execution_count": 15,
     "metadata": {},
     "output_type": "execute_result"
    }
   ],
   "source": [
    "x.getPeaksType() == y.getPeaksType()\n",
    "z "
   ]
  },
  {
   "cell_type": "code",
   "execution_count": 16,
   "id": "4d3d2a5b-b581-4f61-b625-c779bec3a2da",
   "metadata": {
    "tags": []
   },
   "outputs": [
    {
     "ename": "NameError",
     "evalue": "name 'indPeaks' is not defined",
     "output_type": "error",
     "traceback": [
      "\u001b[0;31m---------------------------------------------------------------------------\u001b[0m",
      "\u001b[0;31mNameError\u001b[0m                                 Traceback (most recent call last)",
      "Cell \u001b[0;32mIn[16], line 15\u001b[0m\n\u001b[1;32m     12\u001b[0m \u001b[38;5;28;01mfor\u001b[39;00m i \u001b[38;5;129;01min\u001b[39;00m param_1:\n\u001b[1;32m     13\u001b[0m     \u001b[38;5;66;03m# print(i)\u001b[39;00m\n\u001b[1;32m     14\u001b[0m     temp_peakParms \u001b[38;5;241m=\u001b[39m {}\n\u001b[0;32m---> 15\u001b[0m     \u001b[38;5;28;01mfor\u001b[39;00m param,_ \u001b[38;5;129;01min\u001b[39;00m \u001b[43mindPeaks\u001b[49m[i]\u001b[38;5;241m.\u001b[39mitems():\n\u001b[1;32m     16\u001b[0m         \u001b[38;5;66;03m# print(param)\u001b[39;00m\n\u001b[1;32m     17\u001b[0m         \u001b[38;5;28mprint\u001b[39m(param_1[i][param],param_2[i][param])\n\u001b[1;32m     19\u001b[0m         temp_peakParms[param] \u001b[38;5;241m=\u001b[39m crossoverParams(param_1[i][param],param_2[i][param])\n",
      "\u001b[0;31mNameError\u001b[0m: name 'indPeaks' is not defined"
     ]
    }
   ],
   "source": [
    "param_1 = x.get_params(verbose_type=dict)\n",
    "param_2 = y.get_params(verbose_type=dict)\n",
    "\n",
    "\n",
    "def crossoverParams(val1,val2):\n",
    "    if np.random.randint(0,2):\n",
    "        return val1\n",
    "    else:\n",
    "        return val2\n",
    "    \n",
    "newParam = {}\n",
    "for i in param_1:\n",
    "    # print(i)\n",
    "    temp_peakParms = {}\n",
    "    for param,_ in indPeaks[i].items():\n",
    "        # print(param)\n",
    "        print(param_1[i][param],param_2[i][param])\n",
    "        \n",
    "        temp_peakParms[param] = crossoverParams(param_1[i][param],param_2[i][param])\n",
    "        \n",
    "    newParam[i] = temp_peakParms\n",
    "\n",
    "print(newParam)"
   ]
  },
  {
   "cell_type": "code",
   "execution_count": null,
   "id": "345eeff4-4bac-41bb-a73b-47714173c087",
   "metadata": {
    "tags": []
   },
   "outputs": [],
   "source": [
    "peakParam = newParam['peak_0']\n",
    "print(peakParam)"
   ]
  },
  {
   "cell_type": "code",
   "execution_count": null,
   "id": "3580fce0-7e27-4f8b-ac97-0edd847225dd",
   "metadata": {
    "tags": []
   },
   "outputs": [],
   "source": [
    "z[0].set(peakParam,paramType=dict)"
   ]
  },
  {
   "cell_type": "code",
   "execution_count": null,
   "id": "61eb6d91-0107-493a-ba17-bbc7fc4b6060",
   "metadata": {
    "tags": []
   },
   "outputs": [],
   "source": [
    "z.get_params(verbose_type=dict)"
   ]
  },
  {
   "cell_type": "code",
   "execution_count": null,
   "id": "353b4ae0-999c-4235-a67d-3a772f294b57",
   "metadata": {
    "tags": []
   },
   "outputs": [],
   "source": [
    "newParam"
   ]
  },
  {
   "cell_type": "code",
   "execution_count": 19,
   "id": "28e5fd0d-3f8b-4994-b6f0-0f664d3fb569",
   "metadata": {
    "tags": []
   },
   "outputs": [
    {
     "ename": "KeyError",
     "evalue": "0",
     "output_type": "error",
     "traceback": [
      "\u001b[0;31m---------------------------------------------------------------------------\u001b[0m",
      "\u001b[0;31mKeyError\u001b[0m                                  Traceback (most recent call last)",
      "Cell \u001b[0;32mIn[19], line 1\u001b[0m\n\u001b[0;32m----> 1\u001b[0m \u001b[43mz\u001b[49m\u001b[38;5;241;43m.\u001b[39;49m\u001b[43msetParams\u001b[49m\u001b[43m(\u001b[49m\u001b[43mnewParam\u001b[49m\u001b[43m,\u001b[49m\u001b[43mparamType\u001b[49m\u001b[38;5;241;43m=\u001b[39;49m\u001b[38;5;28;43mdict\u001b[39;49m\u001b[43m)\u001b[49m\n",
      "File \u001b[0;32m~/mambaforge3/lib/python3.10/site-packages/xes_neo/xes_individual.py:257\u001b[0m, in \u001b[0;36mIndividual.setParams\u001b[0;34m(self, params, paramType)\u001b[0m\n\u001b[1;32m    252\u001b[0m \u001b[38;5;66;03m# for i in range(len(self.peakArr)):\u001b[39;00m\n\u001b[1;32m    253\u001b[0m \u001b[38;5;66;03m#     self.peakArr[i].set(params[i],paramType=paramType)\u001b[39;00m\n\u001b[1;32m    254\u001b[0m \u001b[38;5;66;03m# for i in range(len(self.bkgnArr)):\u001b[39;00m\n\u001b[1;32m    255\u001b[0m \u001b[38;5;66;03m#     self.bkgArr[i].set(params[i],paramType=paramType)\u001b[39;00m\n\u001b[1;32m    256\u001b[0m \u001b[38;5;28;01mfor\u001b[39;00m i \u001b[38;5;129;01min\u001b[39;00m \u001b[38;5;28mself\u001b[39m\u001b[38;5;241m.\u001b[39mpeakDict:\n\u001b[0;32m--> 257\u001b[0m     \u001b[38;5;28;43mself\u001b[39;49m\u001b[38;5;241;43m.\u001b[39;49m\u001b[43mpeakDict\u001b[49m\u001b[43m[\u001b[49m\u001b[43mi\u001b[49m\u001b[43m]\u001b[49m\u001b[38;5;241;43m.\u001b[39;49m\u001b[43mset\u001b[49m\u001b[43m(\u001b[49m\u001b[43mparams\u001b[49m\u001b[43m[\u001b[49m\u001b[43mi\u001b[49m\u001b[43m]\u001b[49m\u001b[43m,\u001b[49m\u001b[43mparamType\u001b[49m\u001b[38;5;241;43m=\u001b[39;49m\u001b[43mparamType\u001b[49m\u001b[43m)\u001b[49m\n",
      "File \u001b[0;32m~/mambaforge3/lib/python3.10/site-packages/xes_neo/xes_fit.py:512\u001b[0m, in \u001b[0;36mbackground.set\u001b[0;34m(self, params, paramType)\u001b[0m\n\u001b[1;32m    510\u001b[0m     \u001b[38;5;28mself\u001b[39m\u001b[38;5;241m.\u001b[39mset_shirley_sherwood(params,paramType)\n\u001b[1;32m    511\u001b[0m \u001b[38;5;28;01melif\u001b[39;00m \u001b[38;5;28mself\u001b[39m\u001b[38;5;241m.\u001b[39mbkgnType\u001b[38;5;241m.\u001b[39mlower() \u001b[38;5;241m==\u001b[39m \u001b[38;5;124m'\u001b[39m\u001b[38;5;124mlinear\u001b[39m\u001b[38;5;124m'\u001b[39m:\n\u001b[0;32m--> 512\u001b[0m     \u001b[38;5;28;43mself\u001b[39;49m\u001b[38;5;241;43m.\u001b[39;49m\u001b[43mset_linear\u001b[49m\u001b[43m(\u001b[49m\u001b[43mparams\u001b[49m\u001b[43m,\u001b[49m\u001b[43mparamType\u001b[49m\u001b[43m)\u001b[49m\n\u001b[1;32m    513\u001b[0m \u001b[38;5;28;01melif\u001b[39;00m \u001b[38;5;28mself\u001b[39m\u001b[38;5;241m.\u001b[39mbkgnType \u001b[38;5;241m==\u001b[39m \u001b[38;5;124m'\u001b[39m\u001b[38;5;124mExponential\u001b[39m\u001b[38;5;124m'\u001b[39m:\n\u001b[1;32m    514\u001b[0m     \u001b[38;5;28;01mpass\u001b[39;00m\n",
      "File \u001b[0;32m~/mambaforge3/lib/python3.10/site-packages/xes_neo/xes_fit.py:530\u001b[0m, in \u001b[0;36mbackground.set_linear\u001b[0;34m(self, paramArr, paramType)\u001b[0m\n\u001b[1;32m    528\u001b[0m     \u001b[38;5;28mself\u001b[39m\u001b[38;5;241m.\u001b[39mbackground \u001b[38;5;241m=\u001b[39m paramArr[\u001b[38;5;241m0\u001b[39m]\n\u001b[1;32m    529\u001b[0m     \u001b[38;5;28mself\u001b[39m\u001b[38;5;241m.\u001b[39mslope \u001b[38;5;241m=\u001b[39m paramArr[\u001b[38;5;241m1\u001b[39m]\n\u001b[0;32m--> 530\u001b[0m \u001b[38;5;28mself\u001b[39m\u001b[38;5;241m.\u001b[39mbackground \u001b[38;5;241m=\u001b[39m \u001b[43mparamArr\u001b[49m\u001b[43m[\u001b[49m\u001b[38;5;241;43m0\u001b[39;49m\u001b[43m]\u001b[49m\n",
      "\u001b[0;31mKeyError\u001b[0m: 0"
     ]
    }
   ],
   "source": [
    "z.setParams(newParam,paramType=dict)"
   ]
  },
  {
   "cell_type": "code",
   "execution_count": 22,
   "id": "6167db66-7ca6-4fe5-8647-f672bfd2c0b5",
   "metadata": {
    "tags": []
   },
   "outputs": [
    {
     "data": {
      "text/plain": [
       "{'peak_0': {'peakType': 'voigt',\n",
       "  'bindingEnergy': 6490.96000000001,\n",
       "  'gaussian': 0.966,\n",
       "  'lorentz': 0.75,\n",
       "  'amp': 113.60000000000001},\n",
       " 'peak_1': {'peakType': 'voigt',\n",
       "  'bindingEnergy': 6487.240000000005,\n",
       "  'gaussian': 2.027,\n",
       "  'lorentz': 1.375,\n",
       "  'amp': 167.75},\n",
       " 'peak_2': {'peakType': 'double lorentzian',\n",
       "  'bindingEnergy': 6475.0400000000445,\n",
       "  'gaussian': 0.199,\n",
       "  'lorentz': 0.369,\n",
       "  'amp': 74.25,\n",
       "  'asymmetry': 1.5500000000000005},\n",
       " 'bkgn_0': {'bkgnType': 'Linear', 'background': 0.295}}"
      ]
     },
     "execution_count": 22,
     "metadata": {},
     "output_type": "execute_result"
    }
   ],
   "source": [
    "newParam"
   ]
  },
  {
   "cell_type": "code",
   "execution_count": null,
   "id": "bf6e8499-ffd3-46d8-8030-3ba85c9ab4b5",
   "metadata": {
    "tags": []
   },
   "outputs": [],
   "source": []
  },
  {
   "cell_type": "code",
   "execution_count": null,
   "id": "f675e09a-054f-427d-b350-4f8fd46414e7",
   "metadata": {
    "tags": []
   },
   "outputs": [],
   "source": []
  },
  {
   "cell_type": "code",
   "execution_count": 21,
   "id": "5a9916f8-f878-40be-a767-770000d0e96d",
   "metadata": {
    "tags": []
   },
   "outputs": [
    {
     "data": {
      "text/plain": [
       "{'peak_0': <xes_neo.xes_fit.peak at 0x16a4c2e90>,\n",
       " 'peak_1': <xes_neo.xes_fit.peak at 0x16a4c3670>,\n",
       " 'peak_2': <xes_neo.xes_fit.peak at 0x16a4c3820>,\n",
       " 'bkgn_0': <xes_neo.xes_fit.background at 0x16a4c3250>}"
      ]
     },
     "execution_count": 21,
     "metadata": {},
     "output_type": "execute_result"
    }
   ],
   "source": [
    "z.peakDict"
   ]
  },
  {
   "cell_type": "code",
   "execution_count": null,
   "id": "84dbc71f-b76c-4630-b063-bab928206067",
   "metadata": {},
   "outputs": [],
   "source": []
  }
 ],
 "metadata": {
  "kernelspec": {
   "display_name": "Python 3 (ipykernel)",
   "language": "python",
   "name": "python3"
  },
  "language_info": {
   "codemirror_mode": {
    "name": "ipython",
    "version": 3
   },
   "file_extension": ".py",
   "mimetype": "text/x-python",
   "name": "python",
   "nbconvert_exporter": "python",
   "pygments_lexer": "ipython3",
   "version": "3.10.9"
  }
 },
 "nbformat": 4,
 "nbformat_minor": 5
}
